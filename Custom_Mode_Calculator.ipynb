{
 "cells": [
  {
   "cell_type": "code",
   "execution_count": 1,
   "id": "7e51c97c",
   "metadata": {},
   "outputs": [],
   "source": [
    "import numpy as np\n",
    "ls=np.array([1,2,2,3,3,3,3,3,3,4,4,4])"
   ]
  },
  {
   "cell_type": "code",
   "execution_count": 2,
   "id": "afbb4078",
   "metadata": {},
   "outputs": [],
   "source": [
    "def mode_calculator(array):\n",
    "    values,count=np.unique(array,return_counts=True)\n",
    "    max_count=np.max(count)\n",
    "    return values[count==max_count]"
   ]
  },
  {
   "cell_type": "code",
   "execution_count": 7,
   "id": "93a1b865",
   "metadata": {},
   "outputs": [],
   "source": [
    "mode=mode_calculator(ls)"
   ]
  },
  {
   "cell_type": "code",
   "execution_count": 10,
   "id": "a6e2e03e",
   "metadata": {},
   "outputs": [
    {
     "name": "stdout",
     "output_type": "stream",
     "text": [
      "Mode of ls = [3]\n"
     ]
    }
   ],
   "source": [
    "print(\"Mode of ls =\",mode)"
   ]
  },
  {
   "cell_type": "code",
   "execution_count": null,
   "id": "76d7fdb0",
   "metadata": {},
   "outputs": [],
   "source": []
  }
 ],
 "metadata": {
  "kernelspec": {
   "display_name": "Python 3 (ipykernel)",
   "language": "python",
   "name": "python3"
  },
  "language_info": {
   "codemirror_mode": {
    "name": "ipython",
    "version": 3
   },
   "file_extension": ".py",
   "mimetype": "text/x-python",
   "name": "python",
   "nbconvert_exporter": "python",
   "pygments_lexer": "ipython3",
   "version": "3.10.9"
  }
 },
 "nbformat": 4,
 "nbformat_minor": 5
}
