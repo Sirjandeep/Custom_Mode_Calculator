{
 "cells": [
  {
   "cell_type": "code",
   "execution_count": 1,
   "id": "210ae957",
   "metadata": {},
   "outputs": [],
   "source": [
    "import numpy as np\n",
    "ls=np.array([1,2,2,3,3,3,3,3,3,4,4,4])"
   ]
  },
  {
   "cell_type": "code",
   "execution_count": 29,
   "id": "dc0ea78b",
   "metadata": {},
   "outputs": [],
   "source": [
    "def mode_calculator(array):\n",
    "    values,count=np.unique(array,return_counts=True)\n",
    "    max_count=np.max(count)\n",
    "    if max_count==1:\n",
    "        print(\"Mode not Found\")\n",
    "    else:\n",
    "        return values[count==max_count]"
   ]
  },
  {
   "cell_type": "code",
   "execution_count": 30,
   "id": "9d1d9d65",
   "metadata": {},
   "outputs": [],
   "source": [
    "mode=mode_calculator(ls)"
   ]
  },
  {
   "cell_type": "code",
   "execution_count": 31,
   "id": "680a60d6",
   "metadata": {},
   "outputs": [
    {
     "name": "stdout",
     "output_type": "stream",
     "text": [
      "Mode of ls = [3]\n"
     ]
    }
   ],
   "source": [
    "print(\"Mode of ls =\",mode)"
   ]
  },
  {
   "cell_type": "code",
   "execution_count": null,
   "id": "91c4b6d9",
   "metadata": {},
   "outputs": [],
   "source": []
  },
  {
   "cell_type": "code",
   "execution_count": null,
   "id": "5c5b21bf",
   "metadata": {},
   "outputs": [],
   "source": []
  },
  {
   "cell_type": "code",
   "execution_count": null,
   "id": "efea643d",
   "metadata": {},
   "outputs": [],
   "source": []
  },
  {
   "cell_type": "code",
   "execution_count": null,
   "id": "e70d5603",
   "metadata": {},
   "outputs": [],
   "source": []
  }
 ],
 "metadata": {
  "kernelspec": {
   "display_name": "Python 3 (ipykernel)",
   "language": "python",
   "name": "python3"
  },
  "language_info": {
   "codemirror_mode": {
    "name": "ipython",
    "version": 3
   },
   "file_extension": ".py",
   "mimetype": "text/x-python",
   "name": "python",
   "nbconvert_exporter": "python",
   "pygments_lexer": "ipython3",
   "version": "3.10.9"
  }
 },
 "nbformat": 4,
 "nbformat_minor": 5
}
